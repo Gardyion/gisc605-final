{
 "cells": [
  {
   "cell_type": "code",
   "execution_count": 10,
   "id": "c6130c79-261d-4334-a201-2a8feb6fdcf3",
   "metadata": {
    "tags": []
   },
   "outputs": [],
   "source": [
    "def howdy_planet():\n",
    "    print(\"Howdy Planet!\")\n",
    "    "
   ]
  },
  {
   "cell_type": "code",
   "execution_count": 11,
   "id": "d0fa9872-b6ac-492f-9f9e-74a955f2661b",
   "metadata": {
    "tags": []
   },
   "outputs": [
    {
     "name": "stdout",
     "output_type": "stream",
     "text": [
      "Howdy Planet!\n"
     ]
    }
   ],
   "source": [
    "howdy_planet()"
   ]
  },
  {
   "cell_type": "code",
   "execution_count": 12,
   "id": "3ca78ed3-9f48-4d87-a5fd-f03b3dee6be5",
   "metadata": {
    "tags": []
   },
   "outputs": [],
   "source": [
    "directions = [\"North\", \"South\", \"East\", \"West\"]"
   ]
  },
  {
   "cell_type": "code",
   "execution_count": 13,
   "id": "02d88ff4-5d07-4612-9453-6977c0d8767d",
   "metadata": {
    "tags": []
   },
   "outputs": [
    {
     "name": "stdout",
     "output_type": "stream",
     "text": [
      "North\n",
      "South\n",
      "East\n",
      "West\n"
     ]
    }
   ],
   "source": [
    "for direction in directions:\n",
    "    print(direction)"
   ]
  },
  {
   "cell_type": "code",
   "execution_count": null,
   "id": "2befde3d-822a-4bdb-bb5c-c542f32f9df6",
   "metadata": {},
   "outputs": [],
   "source": []
  }
 ],
 "metadata": {
  "kernelspec": {
   "display_name": "Python 3 (ipykernel)",
   "language": "python",
   "name": "python3"
  },
  "language_info": {
   "codemirror_mode": {
    "name": "ipython",
    "version": 3
   },
   "file_extension": ".py",
   "mimetype": "text/x-python",
   "name": "python",
   "nbconvert_exporter": "python",
   "pygments_lexer": "ipython3",
   "version": "3.10.12"
  }
 },
 "nbformat": 4,
 "nbformat_minor": 5
}
